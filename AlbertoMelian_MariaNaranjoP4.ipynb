{
 "cells": [
  {
   "cell_type": "markdown",
   "metadata": {},
   "source": [
    "Detección de caras con webcam"
   ]
  },
  {
   "cell_type": "code",
   "execution_count": 14,
   "metadata": {},
   "outputs": [],
   "source": [
    "import cv2\n",
    "import time\n",
    "import FaceNormalizationUtils as faceutils\n",
    "# My face detectors interface\n",
    "import FaceDetectors\n",
    "import numpy as np"
   ]
  },
  {
   "cell_type": "markdown",
   "metadata": {},
   "source": [
    "Se ha realizado un filtro de incógnito\n"
   ]
  },
  {
   "cell_type": "code",
   "execution_count": 51,
   "metadata": {},
   "outputs": [
    {
     "name": "stdout",
     "output_type": "stream",
     "text": [
      "Camera 0\n"
     ]
    },
    {
     "ename": "ValueError",
     "evalue": "operands could not be broadcast together with shapes (116,191) (0,191) ",
     "output_type": "error",
     "traceback": [
      "\u001b[1;31m---------------------------------------------------------------------------\u001b[0m",
      "\u001b[1;31mValueError\u001b[0m                                Traceback (most recent call last)",
      "Cell \u001b[1;32mIn [51], line 105\u001b[0m\n\u001b[0;32m    101\u001b[0m     cv2\u001b[39m.\u001b[39mputText(frame, FDet\u001b[39m.\u001b[39mEyeDetectors[imodoE], (\u001b[39m50\u001b[39m, \u001b[39m20\u001b[39m), font, \u001b[39m0.5\u001b[39m, (\u001b[39m255\u001b[39m, \u001b[39m255\u001b[39m, \u001b[39m255\u001b[39m), \u001b[39m2\u001b[39m, cv2\u001b[39m.\u001b[39mLINE_AA)\n\u001b[0;32m    104\u001b[0m frame \u001b[39m=\u001b[39m overlay_image(frame, glasses, lex \u001b[39m-\u001b[39m \u001b[39m30\u001b[39m, ley \u001b[39m-\u001b[39m \u001b[39m30\u001b[39m)    \n\u001b[1;32m--> 105\u001b[0m frame \u001b[39m=\u001b[39m overlay_image(frame, hat, lex \u001b[39m-\u001b[39;49m \u001b[39m55\u001b[39;49m , ley \u001b[39m-\u001b[39;49m \u001b[39m150\u001b[39;49m) \n\u001b[0;32m    106\u001b[0m frame \u001b[39m=\u001b[39m overlay_image(frame, mustache, lex \u001b[39m-\u001b[39m \u001b[39m55\u001b[39m , ley \u001b[39m+\u001b[39m \u001b[39m40\u001b[39m)  \n\u001b[0;32m    107\u001b[0m cv2\u001b[39m.\u001b[39mimshow(\u001b[39m'\u001b[39m\u001b[39mCam\u001b[39m\u001b[39m'\u001b[39m, frame)\n",
      "Cell \u001b[1;32mIn [51], line 15\u001b[0m, in \u001b[0;36moverlay_image\u001b[1;34m(im1, im2, x_offset, y_offset)\u001b[0m\n\u001b[0;32m     11\u001b[0m alpha_l \u001b[39m=\u001b[39m \u001b[39m1.0\u001b[39m \u001b[39m-\u001b[39m alpha_s\n\u001b[0;32m     13\u001b[0m \u001b[39mfor\u001b[39;00m c \u001b[39min\u001b[39;00m \u001b[39mrange\u001b[39m(\u001b[39m0\u001b[39m, \u001b[39m3\u001b[39m):\n\u001b[0;32m     14\u001b[0m     im1[y1:y2, x1:x2, c] \u001b[39m=\u001b[39m (alpha_s \u001b[39m*\u001b[39m im2[:, :, c] \u001b[39m+\u001b[39m\n\u001b[1;32m---> 15\u001b[0m                             alpha_l \u001b[39m*\u001b[39;49m im1[y1:y2, x1:x2, c])\n\u001b[0;32m     17\u001b[0m \u001b[39mreturn\u001b[39;00m im1\n",
      "\u001b[1;31mValueError\u001b[0m: operands could not be broadcast together with shapes (116,191) (0,191) "
     ]
    }
   ],
   "source": [
    "glasses = cv2.imread(\"Gafas.png\", cv2.IMREAD_UNCHANGED)\n",
    "#glasses = cv2.resize()\n",
    "hat = cv2.imread(\"Sombrero.png\", cv2.IMREAD_UNCHANGED)\n",
    "mustache = cv2.imread(\"Mostacho.png\", cv2.IMREAD_UNCHANGED)\n",
    "\n",
    "def overlay_image(im1, im2, x_offset, y_offset):\n",
    "    '''Mutates im1, placing im2 over it at a given offset.'''\n",
    "    y1, y2 = y_offset, y_offset + im2.shape[0]\n",
    "    x1, x2 = x_offset, x_offset + im2.shape[1]\n",
    "    alpha_s = im2[:, :, 3] / 255.0\n",
    "    alpha_l = 1.0 - alpha_s\n",
    "\n",
    "    for c in range(0, 3):\n",
    "        im1[y1:y2, x1:x2, c] = (alpha_s * im2[:, :, c] +\n",
    "                                alpha_l * im1[y1:y2, x1:x2, c])\n",
    "        \n",
    "    return im1\n",
    "    \n",
    "normalizatorHS = faceutils.Normalization()\n",
    "\n",
    "# Face detectors interface\n",
    "FDet = FaceDetectors.FaceDetector()\n",
    "\n",
    "# Fonts\n",
    "font = cv2.FONT_HERSHEY_SIMPLEX\n",
    "\n",
    "# Webcam connection\n",
    "cap = cv2.VideoCapture(0)\n",
    "# Check for other cameras\n",
    "if not cap.isOpened():\n",
    "    cap = cv2.VideoCapture(1)\n",
    "    if not cap.isOpened():\n",
    "        cap = cv2.VideoCapture(0)\n",
    "        if not cap.isOpened():\n",
    "            print('Camera error')\n",
    "            exit(0)\n",
    "        else:\n",
    "            print('Camera 0')\n",
    "    else:\n",
    "        print('Camera 1')\n",
    "else:\n",
    "    print('Camera 0')\n",
    "\n",
    "# Face detection and eye model setup\n",
    "imodoF = 0\n",
    "imodoE = 0\n",
    "\n",
    "debug = 0\n",
    "\n",
    "#Set camera resolution\n",
    "cap.set(3,640);\n",
    "cap.set(4,480);\n",
    "\n",
    "while True:\n",
    "    # Get frame\n",
    "    t = time.time()\n",
    "    ret, frame = cap.read()\n",
    "    # For HS normalization\n",
    "    B, G, R = cv2.split(frame)\n",
    "\n",
    "    # Search face with a specific setup for face and eye detection\n",
    "    values = FDet.SingleFaceEyesDetection(frame, FDet.FaceDetectors[imodoF], FDet.EyeDetectors[imodoE])\n",
    "    if values is not None:\n",
    "        face, eyes, shape = values\n",
    "\n",
    "        #draws face container\n",
    "        [x, y , w, h] = face\n",
    "        if x > -1:\n",
    "            cv2.rectangle(frame, (x, y), (x + w, y + h), (255, 0, 0), 2)\n",
    "\n",
    "            # draws eyes and mask if available\n",
    "            [lex, ley, rex, rey] = eyes\n",
    "            if lex > -1:\n",
    "                # Show detected facial elements\n",
    "                if imodoF > 0:\n",
    "                    for (x, y) in shape:\n",
    "                        cv2.circle(frame, (x, y), 2, (255, 255, 255), -1)\n",
    "\n",
    "                cv2.circle(frame, ((int)(lex), (int)(ley)), 4, (0, 0, 255), -1)\n",
    "                cv2.circle(frame, ((int)(rex), (int)(rey)), 4, (0, 255, 0), -1)\n",
    "\n",
    "\n",
    "                # Normalize and show\n",
    "                # color channels\n",
    "                normalizatorHS.normalize_gray_img(B, lex, ley, rex, rey, faceutils.Kind_wraping.HS)\n",
    "                Bnorm = normalizatorHS.normf_image\n",
    "                normalizatorHS.normalize_gray_img(G, lex, ley, rex, rey, faceutils.Kind_wraping.HS)\n",
    "                Gnorm = normalizatorHS.normf_image\n",
    "                normalizatorHS.normalize_gray_img(R, lex, ley, rex, rey, faceutils.Kind_wraping.HS)\n",
    "                Rnorm = normalizatorHS.normf_image\n",
    "                NormBGR = cv2.merge((Bnorm, Gnorm, Rnorm))\n",
    "                cv2.imshow(\"Normalized\", NormBGR)\n",
    "\n",
    "\n",
    "    if debug:\n",
    "        print(\"Processing time : {:.3f}\".format(time.time() - t))\n",
    "\n",
    "    # Show resulting image\n",
    "    cv2.putText(frame, FDet.FaceDetectors[imodoF], (10, 20), font, 0.5, (255, 255, 255), 2, cv2.LINE_AA)\n",
    "    if imodoF == 1 or imodoF == 2:\n",
    "        cv2.putText(frame, FDet.EyeDetectors[imodoE], (50, 20), font, 0.5, (255, 255, 255), 2, cv2.LINE_AA)\n",
    "\n",
    "    \n",
    "    frame = overlay_image(frame, glasses, lex - 30, ley - 30)    \n",
    "    frame = overlay_image(frame, hat, lex - 55 , ley - 150) \n",
    "    frame = overlay_image(frame, mustache, lex - 55 , ley + 40)  \n",
    "    cv2.imshow('Cam', frame)\n",
    "    \n",
    "    # Esc to finish\n",
    "    tec = cv2.waitKey(40)\n",
    "    if tec & tec == 27:  # Esc\n",
    "        break\n",
    "    # Face detector change\n",
    "    elif tec & 0xFF == ord('d'):\n",
    "        imodoF = imodoF + 1\n",
    "        if imodoF >= len(FDet.FaceDetectors):\n",
    "            imodoF = 0\n",
    "    #Eye detector change\n",
    "    elif tec & 0xFF == ord('e'):\n",
    "        imodoE = imodoE + 1\n",
    "        if imodoE >= len(FDet.EyeDetectors):\n",
    "            imodoE = 0\n",
    "\n",
    "# Close windoews and release camera\n",
    "cap.release()\n",
    "cv2.destroyAllWindows()"
   ]
  }
 ],
 "metadata": {
  "kernelspec": {
   "display_name": "Python 3.9.0 ('deepface')",
   "language": "python",
   "name": "python3"
  },
  "language_info": {
   "codemirror_mode": {
    "name": "ipython",
    "version": 3
   },
   "file_extension": ".py",
   "mimetype": "text/x-python",
   "name": "python",
   "nbconvert_exporter": "python",
   "pygments_lexer": "ipython3",
   "version": "3.9.0"
  },
  "vscode": {
   "interpreter": {
    "hash": "9717c6d46eeb875eaed9d3117826878b928642bcf0d7684fdcecdf96231205d5"
   }
  }
 },
 "nbformat": 4,
 "nbformat_minor": 2
}
